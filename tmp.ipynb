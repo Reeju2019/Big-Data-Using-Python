{
 "cells": [
  {
   "cell_type": "code",
   "execution_count": 1,
   "metadata": {},
   "outputs": [
    {
     "name": "stdout",
     "output_type": "stream",
     "text": [
      "First argument : Hello\n",
      "Argument *argv : Welcome\n",
      "Argument *argv : to\n",
      "Argument *argv : GeeksforGeeks\n"
     ]
    }
   ],
   "source": [
    "def fun(arg1, *argv):\n",
    "    print(\"First argument :\", arg1)\n",
    "    for arg in argv:\n",
    "        print(\"Argument *argv :\", arg)\n",
    "\n",
    "\n",
    "fun('Hello', 'Welcome', 'to', 'GeeksforGeeks')"
   ]
  },
  {
   "cell_type": "code",
   "execution_count": 17,
   "metadata": {},
   "outputs": [
    {
     "ename": "SyntaxError",
     "evalue": "expression cannot contain assignment, perhaps you meant \"==\"? (3936826252.py, line 6)",
     "output_type": "error",
     "traceback": [
      "\u001b[1;36m  Cell \u001b[1;32mIn[17], line 6\u001b[1;36m\u001b[0m\n\u001b[1;33m    fun((1, 2, 3), [1, 2, 3], a=4, b=5, \"1\"=6)\u001b[0m\n\u001b[1;37m                                        ^\u001b[0m\n\u001b[1;31mSyntaxError\u001b[0m\u001b[1;31m:\u001b[0m expression cannot contain assignment, perhaps you meant \"==\"?\n"
     ]
    }
   ],
   "source": [
    "def fun(*args, **kwargs):\n",
    "    print(\"Positional arguments:\", args)\n",
    "    print(\"Keyword arguments:\", kwargs)\n",
    "\n",
    "# fun((1, 2, 3), [1, 2, 3], a=4, b=5)\n",
    "fun((1, 2, 3), [1, 2, 3], a=4, b=5, \"1\"=6)"
   ]
  },
  {
   "cell_type": "code",
   "execution_count": 10,
   "metadata": {},
   "outputs": [
    {
     "ename": "SyntaxError",
     "evalue": "positional argument follows keyword argument (1747356384.py, line 6)",
     "output_type": "error",
     "traceback": [
      "\u001b[1;36m  Cell \u001b[1;32mIn[10], line 6\u001b[1;36m\u001b[0m\n\u001b[1;33m    fun(1, 2, 3, 'Hello', 'Welcome', 'to', a=4, b=5, 'GeeksforGeeks')\u001b[0m\n\u001b[1;37m                                                                    ^\u001b[0m\n\u001b[1;31mSyntaxError\u001b[0m\u001b[1;31m:\u001b[0m positional argument follows keyword argument\n"
     ]
    }
   ],
   "source": [
    "def fun(*args, **kwargs):\n",
    "    print(\"Positional arguments1:\", args)\n",
    "    # print(\"Positional arguments2:\", args1)\n",
    "    print(\"Keyword arguments:\", kwargs)\n",
    "\n",
    "fun(1, 2, 3, 'Hello', 'Welcome', 'to', a=4, b=5, 2=7)"
   ]
  },
  {
   "cell_type": "code",
   "execution_count": 11,
   "metadata": {},
   "outputs": [
    {
     "ename": "ValueError",
     "evalue": "could not convert string to float: '--f=c:\\\\Users\\\\User\\\\AppData\\\\Roaming\\\\jupyter\\\\runtime\\\\kernel-v356b5930fb300d3acc9667161b9dce859a392842d.json'",
     "output_type": "error",
     "traceback": [
      "\u001b[1;31m---------------------------------------------------------------------------\u001b[0m",
      "\u001b[1;31mValueError\u001b[0m                                Traceback (most recent call last)",
      "Cell \u001b[1;32mIn[11], line 14\u001b[0m\n\u001b[0;32m     11\u001b[0m n \u001b[38;5;241m=\u001b[39m \u001b[38;5;28mlen\u001b[39m(sys\u001b[38;5;241m.\u001b[39margv)\n\u001b[0;32m     13\u001b[0m \u001b[38;5;28;01mfor\u001b[39;00m i \u001b[38;5;129;01min\u001b[39;00m \u001b[38;5;28mrange\u001b[39m(\u001b[38;5;241m1\u001b[39m, n):\n\u001b[1;32m---> 14\u001b[0m     add \u001b[38;5;241m+\u001b[39m\u001b[38;5;241m=\u001b[39m \u001b[38;5;28;43mfloat\u001b[39;49m\u001b[43m(\u001b[49m\u001b[43msys\u001b[49m\u001b[38;5;241;43m.\u001b[39;49m\u001b[43margv\u001b[49m\u001b[43m[\u001b[49m\u001b[43mi\u001b[49m\u001b[43m]\u001b[49m\u001b[43m)\u001b[49m\n\u001b[0;32m     16\u001b[0m \u001b[38;5;28mprint\u001b[39m (\u001b[38;5;124m\"\u001b[39m\u001b[38;5;124mthe sum is :\u001b[39m\u001b[38;5;124m\"\u001b[39m, add)\n",
      "\u001b[1;31mValueError\u001b[0m: could not convert string to float: '--f=c:\\\\Users\\\\User\\\\AppData\\\\Roaming\\\\jupyter\\\\runtime\\\\kernel-v356b5930fb300d3acc9667161b9dce859a392842d.json'"
     ]
    }
   ],
   "source": [
    "# Python program to demonstrate\n",
    "# sys.argv\n",
    "\n",
    "\n",
    "import sys\n",
    "\n",
    "add = 0.0\n",
    "\n",
    "# Getting the length of command\n",
    "# line arguments\n",
    "n = len(sys.argv)\n",
    "\n",
    "for i in range(1, n):\n",
    "    add += float(sys.argv[i])\n",
    "\n",
    "print (\"the sum is :\", add)"
   ]
  }
 ],
 "metadata": {
  "kernelspec": {
   "display_name": "Python 3",
   "language": "python",
   "name": "python3"
  },
  "language_info": {
   "codemirror_mode": {
    "name": "ipython",
    "version": 3
   },
   "file_extension": ".py",
   "mimetype": "text/x-python",
   "name": "python",
   "nbconvert_exporter": "python",
   "pygments_lexer": "ipython3",
   "version": "3.11.4"
  }
 },
 "nbformat": 4,
 "nbformat_minor": 2
}
