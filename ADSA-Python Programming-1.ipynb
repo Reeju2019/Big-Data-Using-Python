{
 "cells": [
  {
   "cell_type": "markdown",
   "metadata": {
    "id": "bMuaWAws2ftA"
   },
   "source": [
    "# **Data Types in Python**\n"
   ]
  },
  {
   "cell_type": "code",
   "execution_count": 1,
   "metadata": {
    "id": "J0DF2h5cf0rT"
   },
   "outputs": [],
   "source": [
    "# Python is dynamically typed, meaning you don't need to declare variable types explicitly.\n",
    "# The interpreter infers the type at runtime.\n",
    "\n",
    "# Example in Python:\n",
    "x = 10  # x is an integer\n",
    "x = \"Hello\"  # x is now a string\n",
    "\n",
    "\n",
    "# In contrast, C is statically typed, requiring type declarations.\n",
    "\n",
    "# Example in C:\n",
    "# int x = 10; // x is declared as an integer\n",
    "# x = \"Hello\"; // This would result in a compilation error"
   ]
  },
  {
   "cell_type": "code",
   "execution_count": null,
   "metadata": {
    "colab": {
     "base_uri": "https://localhost:8080/"
    },
    "executionInfo": {
     "elapsed": 562,
     "status": "ok",
     "timestamp": 1731247882954,
     "user": {
      "displayName": "Esam Sharaf",
      "userId": "07917445966642209362"
     },
     "user_tz": -60
    },
    "id": "3YP42XnaFyEy",
    "outputId": "9a7067cd-8bc8-4872-9951-367b27001c6a"
   },
   "outputs": [
    {
     "name": "stdout",
     "output_type": "stream",
     "text": [
      "<class 'int'>\n"
     ]
    }
   ],
   "source": [
    "# Integer\n",
    "integer_variable = 10\n",
    "print(type(integer_variable))  # Output: <class 'int'>"
   ]
  },
  {
   "cell_type": "code",
   "execution_count": null,
   "metadata": {
    "colab": {
     "base_uri": "https://localhost:8080/"
    },
    "executionInfo": {
     "elapsed": 546,
     "status": "ok",
     "timestamp": 1731253248176,
     "user": {
      "displayName": "Esam Sharaf",
      "userId": "07917445966642209362"
     },
     "user_tz": -60
    },
    "id": "F2sGx2UxGCCS",
    "outputId": "73d8ba44-1919-4289-867f-ec142a9764ee"
   },
   "outputs": [
    {
     "ename": "",
     "evalue": "",
     "output_type": "error",
     "traceback": [
      "\u001b[1;31mRunning cells with 'Python 3.11.9' requires the ipykernel package.\n",
      "\u001b[1;31mRun the following command to install 'ipykernel' into the Python environment. \n",
      "\u001b[1;31mCommand: 'c:/Users/SharafEsa/AppData/Local/Microsoft/WindowsApps/python3.11.exe -m pip install ipykernel -U --user --force-reinstall'"
     ]
    }
   ],
   "source": [
    "# String\n",
    "string_with_single_quotes = 'Hello, world!'\n",
    "string_with_double_quotes = \"Hello, world!\"\n",
    "string_with_apostrophe = \"It's a beautiful day.\"\n",
    "\n",
    "print(string_with_single_quotes)\n",
    "print(string_with_double_quotes)\n",
    "print(string_with_apostrophe)\n",
    "\n",
    "# Different ways to print in Python\n",
    "\n",
    "# 1. Using the print() function with a string literal\n",
    "print(\"Welcome to SRH Campus Hamburg!\")\n",
    "\n",
    "# 2. Using f-strings (formatted string literals)\n",
    "message = \"Welcome to SRH\"\n",
    "print(f\"{message}\")\n",
    "\n",
    "# 3. Using the % operator (older style formatting)\n",
    "message = \"Welcome to SRH Campus Hamburg!\"\n",
    "print(\"Message: %s\" % message)\n",
    "\n",
    "# 4. Using the str.format() method\n",
    "message = \"Welcome to SRH Campus Hamburg!\"\n",
    "print(\"{}\".format(message))\n",
    "\n",
    "# String methods such as replace, endswith methods on any string variable (Independent Reading)!"
   ]
  },
  {
   "cell_type": "code",
   "execution_count": null,
   "metadata": {
    "colab": {
     "base_uri": "https://localhost:8080/"
    },
    "executionInfo": {
     "elapsed": 2,
     "status": "ok",
     "timestamp": 1731247890375,
     "user": {
      "displayName": "Esam Sharaf",
      "userId": "07917445966642209362"
     },
     "user_tz": -60
    },
    "id": "MOX7yaEJGgnr",
    "outputId": "9e957b37-c1b5-4ce6-ded2-06568e3285cf"
   },
   "outputs": [
    {
     "name": "stdout",
     "output_type": "stream",
     "text": [
      "<class 'bool'>\n"
     ]
    }
   ],
   "source": [
    "# Boolean\n",
    "boolean_variable = True\n",
    "print(type(boolean_variable))  # Output: <class 'bool'>"
   ]
  },
  {
   "cell_type": "code",
   "execution_count": null,
   "metadata": {
    "colab": {
     "base_uri": "https://localhost:8080/"
    },
    "executionInfo": {
     "elapsed": 563,
     "status": "ok",
     "timestamp": 1731253638500,
     "user": {
      "displayName": "Esam Sharaf",
      "userId": "07917445966642209362"
     },
     "user_tz": -60
    },
    "id": "cfIlitAnGgFg",
    "outputId": "39aa30b5-ca2e-4b86-bd02-3787c296cf39"
   },
   "outputs": [
    {
     "name": "stdout",
     "output_type": "stream",
     "text": [
      "<class 'list'>\n",
      "6\n",
      "<class 'list'>\n",
      "<class 'int'>\n",
      "[1, 4, 9, 16, 25]\n",
      "[2, 4]\n"
     ]
    }
   ],
   "source": [
    "# List\n",
    "list_variable = [1, 2, 3, \"a\", \"b\", \"c\"]\n",
    "print(type(list_variable))  # Output: <class 'list'>\n",
    "print(len(list_variable)) # Output: 6\n",
    "\n",
    "# Generate a list using range function\n",
    "my_list = list(range(10))\n",
    "\n",
    "# Check the type of the list\n",
    "print(type(my_list))  # Output: <class 'list'>\n",
    "# Check the type of the elements in the list (first element as an example)\n",
    "if my_list:\n",
    "  print(type(my_list[0]))  # Output: <class 'int'>\n",
    "\n",
    "\n",
    "# List comprehension\n",
    "L = [1, 2, 3, 4, 5]\n",
    "\n",
    "# List comprehension to create a new list with each element squared\n",
    "L2 = [elem**2 for elem in L]\n",
    "\n",
    "for elem in L:\n",
    "  elem**2   # mind the indentiation in Python!!!\n",
    "\n",
    "print(L2)  # Output: [1, 4, 9, 16, 25]\n",
    "\n",
    "# List comprehension with condition (only include even numbers)\n",
    "L3 = [x for x in L if x % 2 == 0]\n",
    "\n",
    "print(L3)  # Output: [2, 4]\n",
    "\n",
    "\n",
    "# enumerate method (try it out independent)"
   ]
  },
  {
   "cell_type": "code",
   "execution_count": null,
   "metadata": {
    "colab": {
     "base_uri": "https://localhost:8080/"
    },
    "executionInfo": {
     "elapsed": 2118,
     "status": "ok",
     "timestamp": 1731252548543,
     "user": {
      "displayName": "Esam Sharaf",
      "userId": "07917445966642209362"
     },
     "user_tz": -60
    },
    "id": "3PvJfvggGl9L",
    "outputId": "5f241c32-f1ea-4a65-df5f-ca5517e25c10"
   },
   "outputs": [
    {
     "name": "stdout",
     "output_type": "stream",
     "text": [
      "<class 'tuple'>\n",
      "1\n",
      "a\n",
      "(1, 2, 3, 4, 5, 6)\n",
      "(1, 2, 1, 2, 1, 2)\n",
      "6\n",
      "True\n",
      "False\n",
      "1\n",
      "2\n",
      "[3, 'a', 'b', 'c']\n",
      "1\n",
      "4\n"
     ]
    }
   ],
   "source": [
    "# Tuple\n",
    "\n",
    "# A tuple is an ordered, immutable collection of elements.\n",
    "# Immutable means that once a tuple is created, you cannot change its contents.\n",
    "\n",
    "tuple_variable = (1, 2, 3, \"a\", \"b\", \"c\") # terms: () parentheses, [] brackets, {} curely brackets\n",
    "print(type(tuple_variable))  # Output: <class 'tuple'>\n",
    "\n",
    "# Accessing elements\n",
    "print(tuple_variable[0])  # Output: 1\n",
    "print(tuple_variable[3])  # Output: \"a\"\n",
    "\n",
    "# Tuple Concatenation\n",
    "tuple1 = (1, 2, 3)\n",
    "tuple2 = (4, 5, 6)\n",
    "new_tuple = tuple1 + tuple2\n",
    "print(new_tuple)  # Output: (1, 2, 3, 4, 5, 6)\n",
    "\n",
    "# Tuple Repetition\n",
    "tuple3 = (1, 2)\n",
    "repeated_tuple = tuple3 * 3\n",
    "print(repeated_tuple)  # Output: (1, 2, 1, 2, 1, 2)\n",
    "\n",
    "# Tuple Length\n",
    "print(len(tuple_variable))  # Output: 6\n",
    "\n",
    "# Check for element existence\n",
    "print(1 in tuple_variable)  # Output: True\n",
    "print(4 in tuple_variable)  # Output: False\n",
    "\n",
    "# Tuple Unpacking\n",
    "tuple_variable = (1, 2, 3, \"a\", 'a', \"b\", \"c\")\n",
    "a, b, *c = tuple_variable\n",
    "print(a)  # Output: 1\n",
    "print(b)  # Output: 2\n",
    "print(c)  # Output: [3, 'a', 'b', 'c']\n",
    "\n",
    "# Tuple Methods\n",
    "# Tuples have limited methods compared to lists because they are immutable.\n",
    "# count() : counts the occurrences of an element\n",
    "print(tuple_variable.count(\"a\"))  # Output: 1       ************************\n",
    "# index() : returns the index of the first occurrence of an element\n",
    "print(tuple_variable.index(\"b\"))  # Output: 4"
   ]
  },
  {
   "cell_type": "code",
   "execution_count": null,
   "metadata": {
    "colab": {
     "base_uri": "https://localhost:8080/"
    },
    "executionInfo": {
     "elapsed": 315,
     "status": "ok",
     "timestamp": 1731277252895,
     "user": {
      "displayName": "Esam Sharaf",
      "userId": "07917445966642209362"
     },
     "user_tz": -60
    },
    "id": "INYKxfjNGoSC",
    "outputId": "b1c3ad6a-6ca5-4751-cf0f-9ea26b5eaf5c"
   },
   "outputs": [
    {
     "name": "stdout",
     "output_type": "stream",
     "text": [
      "<class 'dict'>\n",
      "Markus Doe\n",
      "30\n",
      "dict_keys(['name', 'age', 'city'])\n",
      "dict_values(['Markus Doe', 30, 'Hamburg'])\n",
      "dict_items([('name', 'Markus Doe'), ('age', 30), ('city', 'Hamburg')])\n",
      "{'name': 'Markus Doe', 'age': 30, 'city': 'Hamburg', 'occupation': 'Software Engineer'}\n",
      "{'name': 'Markus Doe', 'age': 31, 'city': 'Hamburg', 'occupation': 'Software Engineer'}\n",
      "Markus Doe 31 Hamburg\n",
      "{'name': 'Markus Doe', 'age': 31, 'city': 'Hamburg', 'occupation': 'Software Engineer', 'country': 'Germany'}\n",
      "Jane 25\n",
      "Key: a, Value: 1\n",
      "Key: b, Value: 2\n",
      "Key: c, Value: 3\n",
      "[1, 2, 3]\n"
     ]
    },
    {
     "data": {
      "text/plain": [
       "{'name': 'Markus Doe', 'age': 30, 'city': 'Hamburg'}"
      ]
     },
     "execution_count": 8,
     "metadata": {},
     "output_type": "execute_result"
    }
   ],
   "source": [
    "# Dictionary\n",
    "dictionary_variable = {\n",
    "                        \"name\": \"Markus Doe\",\n",
    "                        \"age\": 30,\n",
    "                        \"city\": \"Hamburg\"\n",
    "                      }\n",
    "\n",
    "print(type(dictionary_variable))  # Output: <class 'dict'>\n",
    "\n",
    "# Accessing values using keys\n",
    "print(dictionary_variable[\"name\"])  # Output: John Doe\n",
    "print(dictionary_variable[\"age\"])   # Output: 30\n",
    "\n",
    "# Getting all keys\n",
    "print(dictionary_variable.keys())  # Output: dict_keys(['name', 'age', 'city'])\n",
    "print(dictionary_variable.keys())\n",
    "\n",
    "# Getting all values\n",
    "print(dictionary_variable.values())  # Output: dict_values(['John Doe', 30, 'New York'])\n",
    "\n",
    "# Getting all key-value pairs as tuples\n",
    "print(dictionary_variable.items())  # Output: dict_items([('name', 'John Doe'), ('age', 30), ('city', 'New York')])\n",
    "\n",
    "# Adding a new key-value pair\n",
    "dictionary_variable[\"occupation\"] = \"Software Engineer\"\n",
    "print(dictionary_variable)\n",
    "\n",
    "# Modifying an existing value\n",
    "dictionary_variable[\"age\"] = 45\n",
    "print(dictionary_variable)\n",
    "\n",
    "# Unpacking using individual key-value pairs:\n",
    "name, age, city = dictionary_variable['name'], dictionary_variable['age'], dictionary_variable['city']\n",
    "print(name, age, city)\n",
    "\n",
    "# Unpacking only certain keys\n",
    "new_dict = {**dictionary_variable, 'country': 'Germany'} # Merges values from my_dict into new_dict, add country: Germany\n",
    "print(new_dict)\n",
    "\n",
    "# Nested dictionary unpacking\n",
    "my_nested_dict = {'user': {'name': 'Jane', 'age': 25}, 'address': {'city': 'London'}}\n",
    "\n",
    "user_name, user_age = my_nested_dict['user'].values()\n",
    "print(user_name, user_age) # Output: Jane 25\n",
    "\n",
    "# Removing a key-value pair\n",
    "del dictionary_variable[\"city\"]\n",
    "dictionary_variable\n",
    "\n",
    "# Looping through a dictionary without list comprehension\n",
    "my_dict = {'a': 1, 'b': 2, 'c': 3}\n",
    "\n",
    "for key, value in my_dict.items():\n",
    "  print(f\"Key: {key}, Value: {value}\")\n",
    "\n",
    "# Looping through a dictionary with list comprehension\n",
    "# Create a list of values\n",
    "values = [value for key, value in my_dict.items()]\n",
    "print(values)\n",
    "\n",
    "\n",
    "# Creating a dictionary from Tuple\n",
    "my_tuple = (('name', 'Markus Doe'), ('age', 30), ('city', 'Hamburg'))\n",
    "my_dict = dict(my_tuple)\n",
    "my_dict"
   ]
  },
  {
   "cell_type": "code",
   "execution_count": null,
   "metadata": {
    "id": "De-4SrtAJKU1"
   },
   "outputs": [],
   "source": [
    "# Set\n",
    "# A set is an unordered collection of unique elements.\n",
    "# It means that a set can't contain duplicate elements.\n",
    "# Sets are useful for tasks like removing duplicates from a list or checking for membership in a collection.\n",
    "\n",
    "# Creating a set:\n",
    "my_set = {1, 2, 3, 4, 5}\n",
    "print(my_set)  # Output: {1, 2, 3, 4, 5}\n",
    "\n",
    "# Adding elements to a set:\n",
    "my_set.add(6)\n",
    "print(my_set) # Output: {1, 2, 3, 4, 5, 6}\n",
    "\n",
    "# Removing elements from a set:\n",
    "my_set.remove(3)\n",
    "print(my_set) # Output: {1, 2, 4, 5, 6}\n",
    "\n",
    "# Set operations:\n",
    "set1 = {1, 2, 3}\n",
    "set2 = {3, 4, 5}\n",
    "\n",
    "# Union (combines elements from both sets):\n",
    "union_set = set1.union(set2)\n",
    "print(union_set) # Output: {1, 2, 3, 4, 5}\n",
    "\n",
    "# Intersection (finds common elements):\n",
    "intersection_set = set1.intersection(set2)\n",
    "print(intersection_set) # Output: {3}\n",
    "\n",
    "\n",
    "# Difference (elements in set1 but not in set2):\n",
    "difference_set = set1.difference(set2)\n",
    "print(difference_set) # Output: {1, 2}"
   ]
  },
  {
   "cell_type": "code",
   "execution_count": null,
   "metadata": {
    "id": "AnKJIAOXHa_g"
   },
   "outputs": [],
   "source": [
    "# None\n",
    "my_variable = None\n",
    "print(my_variable)  # Output: None\n",
    "print(type(my_variable))  # Output: <class 'NoneType'>\n",
    "\n",
    "\n",
    "# Example 2: Function returning None\n",
    "def my_function(x, y):\n",
    "  if x > y:\n",
    "    return x\n",
    "  else:\n",
    "    return None\n",
    "\n",
    "result = my_function(5, 10)\n",
    "print(result)  # Output: None"
   ]
  },
  {
   "cell_type": "markdown",
   "metadata": {
    "id": "dzpqUSgeTYbH"
   },
   "source": [
    "### NumPy Array"
   ]
  },
  {
   "cell_type": "code",
   "execution_count": null,
   "metadata": {
    "colab": {
     "base_uri": "https://localhost:8080/",
     "height": 55
    },
    "executionInfo": {
     "elapsed": 342,
     "status": "ok",
     "timestamp": 1731423638678,
     "user": {
      "displayName": "Esam Sharaf",
      "userId": "07917445966642209362"
     },
     "user_tz": -60
    },
    "id": "yLNXOOcbE4NA",
    "outputId": "4b1de914-ddb5-4efe-f213-89ca541fc3f5"
   },
   "outputs": [
    {
     "data": {
      "application/vnd.google.colaboratory.intrinsic+json": {
       "type": "string"
      },
      "text/plain": [
       "'1.26.4'"
      ]
     },
     "execution_count": 3,
     "metadata": {},
     "output_type": "execute_result"
    }
   ],
   "source": [
    "# More efficient storage and data operations as the arrays grow larger in size than lists\n",
    "# It is a Package\n",
    "import numpy as np\n",
    "np.__version__      # Dunder methods"
   ]
  },
  {
   "cell_type": "code",
   "execution_count": null,
   "metadata": {
    "colab": {
     "base_uri": "https://localhost:8080/"
    },
    "executionInfo": {
     "elapsed": 538,
     "status": "ok",
     "timestamp": 1731424278762,
     "user": {
      "displayName": "Esam Sharaf",
      "userId": "07917445966642209362"
     },
     "user_tz": -60
    },
    "id": "8YV2rsCKO63A",
    "outputId": "92d5e5cc-0f39-4d98-f10f-e3813f1fd1db"
   },
   "outputs": [
    {
     "name": "stdout",
     "output_type": "stream",
     "text": [
      "<class 'numpy.ndarray'>\n",
      "Shape: (3, 4)\n",
      "Data type: int64\n",
      "Number of dimensions: 2\n",
      "Size: 12\n",
      "Element at (1, 2): 6\n",
      "Element at (-1, 2): 5\n",
      "First two rows:\n",
      " [[2 1 0 7]\n",
      " [2 1 6 9]]\n",
      "Last two columns:\n",
      " [[0 7]\n",
      " [6 9]\n",
      " [5 0]]\n",
      "Every other element in the first row: [2 0]\n",
      "Reshaped array:\n",
      " [[2 1 0]\n",
      " [7 2 1]\n",
      " [6 9 2]\n",
      " [7 5 0]]\n"
     ]
    }
   ],
   "source": [
    "# Attributes of NumPy Arrays\n",
    "arr = np.random.randint(0, 10, size=(3, 4))     # 3-row 4-columns array\n",
    "print(type(arr))  # Output: <class 'numpy.ndarray'>\n",
    "print(\"Shape:\", arr.shape)\n",
    "print(\"Data type:\", arr.dtype)\n",
    "print(\"Number of dimensions:\", arr.ndim)\n",
    "print(\"Size:\", arr.size)\n",
    "\n",
    "# Indexing of Arrays\n",
    "print(\"Element at (1, 2):\", arr[1, 2])\n",
    "print(\"Element at (-1, 2):\", arr[-1, 2])\n",
    "\n",
    "# Slicing of Arrays\n",
    "print(\"First two rows:\\n\", arr[:2])\n",
    "print(\"Last two columns:\\n\", arr[:, -2:])\n",
    "print(\"Every other element in the first row:\", arr[0, ::2])\n",
    "\n",
    "# Reshaping of Arrays\n",
    "arr_reshaped = arr.reshape(4, 3)\n",
    "print(\"Reshaped array:\\n\", arr_reshaped)"
   ]
  },
  {
   "cell_type": "code",
   "execution_count": 6,
   "metadata": {
    "colab": {
     "base_uri": "https://localhost:8080/"
    },
    "executionInfo": {
     "elapsed": 600,
     "status": "ok",
     "timestamp": 1731423751053,
     "user": {
      "displayName": "Esam Sharaf",
      "userId": "07917445966642209362"
     },
     "user_tz": -60
    },
    "id": "6pRjksLLTSg1",
    "outputId": "9d80ac5c-2c21-49d6-de47-5296458c9d57"
   },
   "outputs": [
    {
     "name": "stdout",
     "output_type": "stream",
     "text": [
      "Concatenated along rows:\n",
      " [[4 4 0]\n",
      " [4 4 1]\n",
      " [7 8 5]\n",
      " [8 7 8]]\n",
      "Concatenated along columns:\n",
      " [[4 4 0 7 8 5]\n",
      " [4 4 1 8 7 8]]\n",
      "Split along rows:\n",
      " [array([[4, 4, 0],\n",
      "       [4, 4, 1]]), array([[7, 8, 5],\n",
      "       [8, 7, 8]])]\n",
      "Split along columns:\n",
      " [array([[4, 4],\n",
      "       [4, 4]]), array([[0, 7],\n",
      "       [1, 8]]), array([[8, 5],\n",
      "       [7, 8]])]\n"
     ]
    }
   ],
   "source": [
    "# Joining and Splitting of Arrays\n",
    "arr1 = np.random.randint(0, 5, size=(2, 3))\n",
    "arr2 = np.random.randint(5, 10, size=(2, 3))\n",
    "\n",
    "# Concatenate along rows (vertical stacking)\n",
    "arr_concat_rows = np.concatenate((arr1, arr2), axis=0)\n",
    "print(\"Concatenated along rows:\\n\", arr_concat_rows)\n",
    "\n",
    "# Concatenate along columns (horizontal stacking)\n",
    "arr_concat_cols = np.concatenate((arr1, arr2), axis=1)\n",
    "print(\"Concatenated along columns:\\n\", arr_concat_cols)\n",
    "\n",
    "# Splitting the array into two equal parts along the rows\n",
    "arr_split_rows = np.split(arr_concat_rows, 2, axis=0)\n",
    "print(\"Split along rows:\\n\", arr_split_rows)\n",
    "\n",
    "# Splitting the array into three equal parts along the columns\n",
    "arr_split_cols = np.split(arr_concat_cols, 3, axis=1)\n",
    "print(\"Split along columns:\\n\", arr_split_cols)"
   ]
  },
  {
   "cell_type": "code",
   "execution_count": 2,
   "metadata": {
    "colab": {
     "base_uri": "https://localhost:8080/"
    },
    "executionInfo": {
     "elapsed": 335,
     "status": "ok",
     "timestamp": 1731423662100,
     "user": {
      "displayName": "Esam Sharaf",
      "userId": "07917445966642209362"
     },
     "user_tz": -60
    },
    "id": "WEfIeDEGTFhK",
    "outputId": "14511c36-b834-4147-fdc8-ab1d4b7751ce"
   },
   "outputs": [
    {
     "name": "stdout",
     "output_type": "stream",
     "text": [
      "arr1: [10  2  3]\n",
      "arr1: [1 2 3]\n",
      "arr2: [10  2  3]\n",
      "Original array: [1 2 3]\n",
      "New array: [100   2   3]\n"
     ]
    }
   ],
   "source": [
    "# Example showing how changing arrays of the same reference changes the original array\n",
    "import numpy as np\n",
    "arr1 = np.array([1, 2, 3])\n",
    "arr2 = arr1  # arr2 now refers to the same array as arr1\n",
    "arr2[0] = 10\n",
    "print(f\"arr1: {arr1}\")  # Output: arr1: [10  2  3]  (arr1 is also changed)\n",
    "\n",
    "\n",
    "# Example showing how copying arrays prevents changing the original\n",
    "arr1 = np.array([1, 2, 3])\n",
    "arr2 = arr1.copy()  # arr2 is a new copy of arr1\n",
    "arr2[0] = 10\n",
    "print(f\"arr1: {arr1}\")  # Output: arr1: [1 2 3] (arr1 remains unchanged)\n",
    "print(f\"arr2: {arr2}\")  # Output: arr2: [10  2  3]\n",
    "\n",
    "\n",
    "# Function in which .copy is used to prevent unintended changes to the original array\n",
    "def modify_array_safely(original_array):\n",
    "  \"\"\"\n",
    "  Modifies a copy of the array and returns the modified copy.\n",
    "  The original array remains unchanged.\n",
    "  \"\"\"\n",
    "  modified_array = original_array.copy()\n",
    "  modified_array[0] = 100\n",
    "  return modified_array\n",
    "\n",
    "\n",
    "my_array = np.array([1, 2, 3])\n",
    "new_array = modify_array_safely(my_array)\n",
    "print(f\"Original array: {my_array}\")  # Output: Original array: [1 2 3]\n",
    "print(f\"New array: {new_array}\")  # Output: New array: [100   2   3]"
   ]
  },
  {
   "cell_type": "code",
   "execution_count": 3,
   "metadata": {
    "colab": {
     "base_uri": "https://localhost:8080/"
    },
    "executionInfo": {
     "elapsed": 5097,
     "status": "ok",
     "timestamp": 1731423993318,
     "user": {
      "displayName": "Esam Sharaf",
      "userId": "07917445966642209362"
     },
     "user_tz": -60
    },
    "id": "KLxN7b9s5xOb",
    "outputId": "75de7dfd-a0d9-4e28-dc17-d2eccf554824"
   },
   "outputs": [
    {
     "name": "stdout",
     "output_type": "stream",
     "text": [
      "5.62 ms ± 144 μs per loop (mean ± std. dev. of 7 runs, 100 loops each)\n",
      "20 μs ± 788 ns per loop (mean ± std. dev. of 7 runs, 100,000 loops each)\n"
     ]
    }
   ],
   "source": [
    "# sum\n",
    "big_array = np.random.rand(100000)\n",
    "%timeit sum(big_array)\n",
    "%timeit np.sum(big_array)"
   ]
  },
  {
   "cell_type": "code",
   "execution_count": 9,
   "metadata": {
    "colab": {
     "base_uri": "https://localhost:8080/"
    },
    "executionInfo": {
     "elapsed": 6,
     "status": "ok",
     "timestamp": 1731424082742,
     "user": {
      "displayName": "Esam Sharaf",
      "userId": "07917445966642209362"
     },
     "user_tz": -60
    },
    "id": "2uRfPOCX6hMs",
    "outputId": "a84f3f3a-9187-4985-9b28-31c1d2826a17"
   },
   "outputs": [
    {
     "data": {
      "text/plain": [
       "(6.611145074497671e-06, 0.9999866913836751)"
      ]
     },
     "execution_count": 9,
     "metadata": {},
     "output_type": "execute_result"
    }
   ],
   "source": [
    "# Min, Max\n",
    "np.min(big_array), np.max(big_array)"
   ]
  },
  {
   "cell_type": "code",
   "execution_count": 4,
   "metadata": {
    "colab": {
     "base_uri": "https://localhost:8080/"
    },
    "executionInfo": {
     "elapsed": 332,
     "status": "ok",
     "timestamp": 1731424452430,
     "user": {
      "displayName": "Esam Sharaf",
      "userId": "07917445966642209362"
     },
     "user_tz": -60
    },
    "id": "oOKh-y_e7fQd",
    "outputId": "c19d446e-0e10-4ae6-b0ee-e2fa12e004fc"
   },
   "outputs": [
    {
     "name": "stdout",
     "output_type": "stream",
     "text": [
      "[False False  True  True  True False]\n",
      "True\n",
      "[ True  True  True  True  True False]\n",
      "False\n",
      "3\n",
      "0\n"
     ]
    }
   ],
   "source": [
    "# Aggergation Functions (all, any, argmax, argmin)\n",
    "arr = np.array([1, 2, 3, 4, 5, 0])\n",
    "\n",
    "# .any() checks if any element in the array is True\n",
    "print(arr > 2)  # Output: [False False  True  True  True False] (the return is an array)\n",
    "print((arr > 2).any())  # Output: True\n",
    "\n",
    "# .all() checks if all elements in the array are True\n",
    "print(arr > 0)  # Output: [ True  True  True  True  True False]\n",
    "print((arr > 0).all())  # Output: False\n",
    "\n",
    "# argmax and argmin\n",
    "arr2 = np.array([1, 5, 2, 8, 3])\n",
    "\n",
    "# argmax returns the index of the maximum element\n",
    "print(np.argmax(arr2))  # Output: 3 (index of 8)\n",
    "\n",
    "# argmin returns the index of the minimum element\n",
    "print(np.argmin(arr2))  # Output: 0 (index of 1)"
   ]
  },
  {
   "cell_type": "code",
   "execution_count": 26,
   "metadata": {
    "colab": {
     "base_uri": "https://localhost:8080/"
    },
    "executionInfo": {
     "elapsed": 564,
     "status": "ok",
     "timestamp": 1731426522583,
     "user": {
      "displayName": "Esam Sharaf",
      "userId": "07917445966642209362"
     },
     "user_tz": -60
    },
    "id": "9TtjfXVl_8in",
    "outputId": "7cac80f3-d0f0-46d6-aaba-50b25399e122"
   },
   "outputs": [
    {
     "name": "stdout",
     "output_type": "stream",
     "text": [
      "Case 1:\n",
      "[3 4 5]\n",
      "\n",
      "Case 2:\n",
      "[[2 4 6]\n",
      " [5 7 9]]\n",
      "\n",
      "Case 3 a shape:\n",
      "(3, 1)\n",
      "\n",
      "Case 3 b shape:\n",
      "(3,)\n",
      "\n",
      "Case 3 c array :\n",
      "[[2 3 4]\n",
      " [3 4 5]\n",
      " [4 5 6]]\n",
      "\n",
      "Case 3 c shape:\n",
      "(3, 3)\n",
      "\n",
      "Case 4 Error:\n",
      "operands could not be broadcast together with shapes (2,3) (2,) \n",
      "\n",
      "Case 5:\n",
      "[[ 10  40  90]\n",
      " [ 40 100 180]]\n",
      "nCase 6 \n",
      "\n",
      "Array a: [[[3 0 1 4]\n",
      "  [6 8 8 8]\n",
      "  [0 5 2 1]]\n",
      "\n",
      " [[5 6 4 1]\n",
      "  [1 7 3 6]\n",
      "  [5 3 3 5]]] \n",
      "\n",
      "Array b: [[6]\n",
      " [6]\n",
      " [5]] \n",
      "\n",
      "Array c: [[[ 9  6  7 10]\n",
      "  [12 14 14 14]\n",
      "  [ 5 10  7  6]]\n",
      "\n",
      " [[11 12 10  7]\n",
      "  [ 7 13  9 12]\n",
      "  [10  8  8 10]]] \n",
      "\n",
      "The shapr C(2, 3, 4)\n"
     ]
    }
   ],
   "source": [
    "# Broadcasting\n",
    "\n",
    "import numpy as np\n",
    "\n",
    "# Case 1: Scalar and Array\n",
    "# Broadcasting a scalar to an array\n",
    "a = np.array([1, 2, 3])\n",
    "b = 2\n",
    "c = a + b  # Adds 2 to each element of 'a'\n",
    "print(f\"Case 1:\\n{c}\")\n",
    "\n",
    "# Case 2: Array and Array (Compatible Shapes)\n",
    "# Broadcasting two arrays with compatible shapes\n",
    "a = np.array([[1, 2, 3], [4, 5, 6]])  # Shape (2, 3)\n",
    "b = np.array([1, 2, 3])  # Shape (3,)\n",
    "c = a + b  # Adds 'b' to each row of 'a'\n",
    "print(f\"\\nCase 2:\\n{c}\")\n",
    "\n",
    "\n",
    "# Case 3: Array and Array (One Dimension with Size 1)\n",
    "# Broadcasting when one dimension has size 1\n",
    "a = np.array([[1], [2], [3]])  # Shape (3, 1)\n",
    "b = np.array([1, 2, 3])  # Shape (3,)\n",
    "c = a + b  # 'a' is expanded along the second dimension to match 'b'\n",
    "print(f\"\\nCase 3 a shape:\\n{np.shape(a)}\")\n",
    "print(f\"\\nCase 3 b shape:\\n{np.shape(b)}\")\n",
    "print(f\"\\nCase 3 c array :\\n{c}\")\n",
    "print(f\"\\nCase 3 c shape:\\n{np.shape(c)}\")\n",
    "# Case 4: Error Case (Incompatible Shapes)\n",
    "# Trying to broadcast incompatible shapes will raise an error\n",
    "a = np.array([[1, 2, 3], [4, 5, 6]])  # Shape (2, 3)\n",
    "b = np.array([1, 2])  # Shape (2,)\n",
    "try:\n",
    "    c = a + b\n",
    "except ValueError as e:\n",
    "    print(f\"\\nCase 4 Error:\\n{e}\")\n",
    "\n",
    "\n",
    "# Case 5:\n",
    "a = np.array([[1, 2, 3], [4, 5, 6]])  # Shape (2, 3)\n",
    "b = np.array([10, 20, 30])  # Shape (3,)\n",
    "c = a * b  # Element-wise multiplication, but often leads to errors if not intended\n",
    "print(f\"\\nCase 5:\\n{c}\")\n",
    "\n",
    "\n",
    "# Case 6: More Complex Broadcasting\n",
    "# Demonstrating more complex broadcasting with higher dimensions\n",
    "# Homework: explain how the addition is implemented.\n",
    "a = np.random.randint(0, 9, (2, 3, 4))\n",
    "b = np.random.randint(0, 9, (3, 1))\n",
    "\n",
    "c = a + b  # 'b' is broadcasted along the first and third dimensions to match 'a'\n",
    "\n",
    "print('nCase 6 \\n')\n",
    "print('Array a:', a, '\\n')\n",
    "print('Array b:', b, '\\n')\n",
    "print('Array c:', c, '\\n')\n",
    "print(f\"The shapr C{c.shape}\")\n"
   ]
  },
  {
   "cell_type": "code",
   "execution_count": 29,
   "metadata": {
    "colab": {
     "base_uri": "https://localhost:8080/"
    },
    "executionInfo": {
     "elapsed": 250,
     "status": "ok",
     "timestamp": 1731275682003,
     "user": {
      "displayName": "Esam Sharaf",
      "userId": "07917445966642209362"
     },
     "user_tz": -60
    },
    "id": "EMgU8HESbXAe",
    "outputId": "cb0254d0-b04c-4db4-f275-cfa2c7957b9f"
   },
   "outputs": [
    {
     "name": "stdout",
     "output_type": "stream",
     "text": [
      "var1: 10, var2: hello, var3: True\n"
     ]
    },
    {
     "data": {
      "text/plain": [
       "10"
      ]
     },
     "execution_count": 29,
     "metadata": {},
     "output_type": "execute_result"
    }
   ],
   "source": [
    "# Assignment 1: a function to print 1 argument as a Tuple of n elements.\n",
    "def my_func(var1, var2, var3):\n",
    "  \"\"\"\n",
    "  This function accepts three variables and prints their values.\n",
    "  \"\"\"\n",
    "\n",
    "  print(f\"var1: {var1}, var2: {var2}, var3: {var3}\")\n",
    "\n",
    "  return var1\n",
    "\n",
    "\n",
    "# Create a tuple with the parameters for the function\n",
    "my_tuple = (10, \"hello\", True)\n",
    "my_func(*my_tuple)"
   ]
  },
  {
   "cell_type": "code",
   "execution_count": null,
   "metadata": {
    "colab": {
     "base_uri": "https://localhost:8080/"
    },
    "executionInfo": {
     "elapsed": 891,
     "status": "ok",
     "timestamp": 1731249041620,
     "user": {
      "displayName": "Esam Sharaf",
      "userId": "07917445966642209362"
     },
     "user_tz": -60
    },
    "id": "g8N8E73xeUOf",
    "outputId": "335f8c6b-9d9a-43c4-83bc-7f4e438f0aca"
   },
   "outputs": [
    {
     "name": "stdout",
     "output_type": "stream",
     "text": [
      "Parameter 1: 1, Parameter 2: hello, Parameter 3: True\n",
      "Parameter 1: 1, Parameter 2: hello, Parameter 3: True\n"
     ]
    }
   ],
   "source": [
    "# Assignment 2: a function with a single argument as a Dictionary.\n",
    "def my_func(param1, param2, param3):\n",
    "\n",
    "  print(f\"Parameter 1: {param1}, Parameter 2: {param2}, Parameter 3: {param3}\")\n",
    "  \n",
    "  return\n",
    "\n",
    "def my_func_1(argu_1):\n",
    "\n",
    "  print(f\"Parameter 1: {argu_1[\"param1\"]}, Parameter 2: {argu_1[\"param2\"]}, Parameter 3: {argu_1[\"param3\"]}\")\n",
    "  \n",
    "  return\n",
    "\n",
    "my_dict = {\"param1\": 1, \"param2\": \"hello\", \"param3\": True}\n",
    "my_func(**my_dict) # solution 1\n",
    "my_func_1(my_dict) # solution 2"
   ]
  },
  {
   "cell_type": "code",
   "execution_count": null,
   "metadata": {
    "id": "QoqBj-qFdX9Y"
   },
   "outputs": [],
   "source": [
    "# Assignment 3: Removing duplicates from a list using a set\n",
    "my_list = [1, 2, 2, 3, 4, 4, 5, 5, 5]\n",
    "unique_elements = set(my_list)\n",
    "print(unique_elements) # Output: {1, 2, 3, 4, 5}\n",
    "\n",
    "# Converting a set back to a list:\n",
    "new_list = list(unique_elements)\n",
    "print(new_list) # Output: [1, 2, 3, 4, 5]"
   ]
  }
 ],
 "metadata": {
  "colab": {
   "authorship_tag": "ABX9TyOJWd9FRR8b0N81QdpMYtm6",
   "provenance": []
  },
  "kernelspec": {
   "display_name": "base",
   "language": "python",
   "name": "python3"
  },
  "language_info": {
   "codemirror_mode": {
    "name": "ipython",
    "version": 3
   },
   "file_extension": ".py",
   "mimetype": "text/x-python",
   "name": "python",
   "nbconvert_exporter": "python",
   "pygments_lexer": "ipython3",
   "version": "3.12.7"
  }
 },
 "nbformat": 4,
 "nbformat_minor": 0
}
